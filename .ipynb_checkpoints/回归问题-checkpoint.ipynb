{
 "cells": [
  {
   "cell_type": "markdown",
   "metadata": {},
   "source": [
    "# 回归方法"
   ]
  },
  {
   "cell_type": "markdown",
   "metadata": {},
   "source": [
    "## PLS\n",
    "https://en.wikipedia.org/wiki/Partial_least_squares_regression\n",
    "\n",
    "- PCA\n",
    "- PCR (principal components regression):响应和独立变量之间的最大方差超平面\n",
    "\n",
    "- PLS：对于矩阵X和矩阵Y，在X空间中寻找多维方向，以解释Y空间中的最大多维方差方向\n",
    "- PLSR (Partial least squares regression)：通过将预测变量和观测变量投影到新空间来进行线性回归\n",
    "- PLS-DA (PLS Discriminant Analysis):PLSR的变种，Y是类别型的(when the Y is categorical)（分类器？）\n",
    "- PLSC (PLS correlation)"
   ]
  },
  {
   "cell_type": "markdown",
   "metadata": {},
   "source": [
    "PLSR尤其适用于：\n",
    "- **变量个数多余样本个数**\n",
    "- **X具有 multicollinearity 性质**\n",
    "\n",
    "线性回归在这种情形下会失败（前者造成不定方程组，后者造成协方差矩阵${ X^{\\top }X} $奇异）"
   ]
  },
  {
   "cell_type": "markdown",
   "metadata": {},
   "source": [
    "### PLS  基本模型\n",
    "\n",
    "$$\n",
    "{\\displaystyle X=TP^{\\mathrm {T} }+E} \n",
    "$$\n",
    "$$\n",
    "{\\displaystyle Y=UQ^{\\mathrm {T} }+F} \n",
    "$$\n",
    "\n",
    "\n",
    "- X: n $\\times$ m，预测predictors\n",
    "- Y: n $\\times$ p, 相应responses\n",
    "- T: n $\\times$ l, X的投影，X score，component，factor matrix\n",
    "- U: n $\\times$ l，Y的投影，Y score\n",
    "- P: m $\\times$ l，正交负载矩阵loading\n",
    "- Q: p $\\times$ l，正交负载矩阵loading\n",
    "- E: error，独立同分布随机正态变量\n",
    "- F: error，独立同分布随机正态变量\n",
    "\n",
    "最大化$T$和$U$的协方差covariance"
   ]
  },
  {
   "cell_type": "markdown",
   "metadata": {},
   "source": [
    "### 算法Algorithm\n",
    "\n",
    "#### PLS1\n",
    "假设T是正交矩阵？\n"
   ]
  },
  {
   "cell_type": "markdown",
   "metadata": {},
   "source": [
    "## 线性回归\n",
    "目标是最小化SSR(残差平方和 sum of squared residuals)。也即MSE（均方误差，mean square error）"
   ]
  },
  {
   "cell_type": "markdown",
   "metadata": {
    "ExecuteTime": {
     "end_time": "2019-05-28T02:50:31.571209Z",
     "start_time": "2019-05-28T02:50:31.559576Z"
    }
   },
   "source": [
    "## Lasso, Ridge, Elastic Net"
   ]
  },
  {
   "cell_type": "markdown",
   "metadata": {},
   "source": [
    "## BayesianRidge"
   ]
  },
  {
   "cell_type": "markdown",
   "metadata": {},
   "source": [
    "## SGD回归\n",
    "sklearn.linear_model.SGDRegressor"
   ]
  },
  {
   "cell_type": "markdown",
   "metadata": {},
   "source": [
    "## 高斯过程（GP）\n",
    "GP，一个监督学习方法，用于回归、概率分类。\n",
    "\n",
    "优点：\n",
    "- 预测是对观测的内插/插值\n",
    "- 预测是概率型的，便于重新训练refit\n",
    "- 多样的（Versatile），可以使用多种核函数kernels\n",
    "\n",
    "缺点：\n",
    "- 使用所有样本、变量，不稀疏\n",
    "- 抵效率，在高维空间问题\n",
    "\n",
    "### 高斯过程回归（GP Regression，GPR）"
   ]
  },
  {
   "cell_type": "markdown",
   "metadata": {},
   "source": [
    "### 高斯过程分类 Gaussian Process Classification (GPC)"
   ]
  },
  {
   "cell_type": "markdown",
   "metadata": {},
   "source": [
    "## Kernel Ridge Regression (KRR)"
   ]
  },
  {
   "cell_type": "markdown",
   "metadata": {},
   "source": [
    "## Isotonic regression"
   ]
  },
  {
   "cell_type": "markdown",
   "metadata": {},
   "source": [
    "## SVR"
   ]
  },
  {
   "cell_type": "markdown",
   "metadata": {},
   "source": [
    "## KNN回归\n",
    "sklearn.neighbors.KNeighborsRegressor"
   ]
  },
  {
   "cell_type": "markdown",
   "metadata": {},
   "source": [
    "## MLPRegressor\n",
    "sklearn.neural_network.MLPRegressor"
   ]
  },
  {
   "cell_type": "markdown",
   "metadata": {},
   "source": [
    "## GBM\n",
    "### lightgbm\n",
    "### xgboost\n",
    "### sklearn gbm,rf,..DecisionTreeRegressor"
   ]
  },
  {
   "cell_type": "markdown",
   "metadata": {},
   "source": [
    "# 评价指标"
   ]
  },
  {
   "cell_type": "code",
   "execution_count": 10,
   "metadata": {
    "ExecuteTime": {
     "end_time": "2019-06-27T03:51:24.837503Z",
     "start_time": "2019-06-27T03:51:24.815296Z"
    }
   },
   "outputs": [],
   "source": [
    "import sklearn.metrics.regression"
   ]
  },
  {
   "cell_type": "code",
   "execution_count": 11,
   "metadata": {
    "ExecuteTime": {
     "end_time": "2019-06-27T03:51:30.927939Z",
     "start_time": "2019-06-27T03:51:30.921438Z"
    },
    "scrolled": true
   },
   "outputs": [
    {
     "data": {
      "text/plain": [
       "['UndefinedMetricWarning',\n",
       " '__ALL__',\n",
       " '__builtins__',\n",
       " '__cached__',\n",
       " '__doc__',\n",
       " '__file__',\n",
       " '__loader__',\n",
       " '__name__',\n",
       " '__package__',\n",
       " '__spec__',\n",
       " '_check_reg_targets',\n",
       " '_num_samples',\n",
       " 'check_array',\n",
       " 'check_consistent_length',\n",
       " 'column_or_1d',\n",
       " 'explained_variance_score',\n",
       " 'max_error',\n",
       " 'mean_absolute_error',\n",
       " 'mean_squared_error',\n",
       " 'mean_squared_log_error',\n",
       " 'median_absolute_error',\n",
       " 'np',\n",
       " 'r2_score',\n",
       " 'warnings']"
      ]
     },
     "execution_count": 11,
     "metadata": {},
     "output_type": "execute_result"
    }
   ],
   "source": [
    "dir(sklearn.metrics.regression)"
   ]
  },
  {
   "cell_type": "code",
   "execution_count": 12,
   "metadata": {
    "ExecuteTime": {
     "end_time": "2019-06-27T03:56:39.024318Z",
     "start_time": "2019-06-27T03:56:39.014092Z"
    }
   },
   "outputs": [],
   "source": [
    "import sklearn.preprocessing"
   ]
  },
  {
   "cell_type": "code",
   "execution_count": 13,
   "metadata": {
    "ExecuteTime": {
     "end_time": "2019-06-27T03:56:44.398787Z",
     "start_time": "2019-06-27T03:56:44.394206Z"
    },
    "scrolled": true
   },
   "outputs": [
    {
     "data": {
      "text/plain": [
       "['Binarizer',\n",
       " 'FunctionTransformer',\n",
       " 'Imputer',\n",
       " 'KBinsDiscretizer',\n",
       " 'KernelCenterer',\n",
       " 'LabelBinarizer',\n",
       " 'LabelEncoder',\n",
       " 'MaxAbsScaler',\n",
       " 'MinMaxScaler',\n",
       " 'MultiLabelBinarizer',\n",
       " 'Normalizer',\n",
       " 'OneHotEncoder',\n",
       " 'OrdinalEncoder',\n",
       " 'PolynomialFeatures',\n",
       " 'PowerTransformer',\n",
       " 'QuantileTransformer',\n",
       " 'RobustScaler',\n",
       " 'StandardScaler',\n",
       " '__all__',\n",
       " '__builtins__',\n",
       " '__cached__',\n",
       " '__doc__',\n",
       " '__file__',\n",
       " '__loader__',\n",
       " '__name__',\n",
       " '__package__',\n",
       " '__path__',\n",
       " '__spec__',\n",
       " '_csr_polynomial_expansion',\n",
       " '_discretization',\n",
       " '_encoders',\n",
       " '_function_transformer',\n",
       " 'add_dummy_feature',\n",
       " 'base',\n",
       " 'binarize',\n",
       " 'data',\n",
       " 'imputation',\n",
       " 'label',\n",
       " 'label_binarize',\n",
       " 'maxabs_scale',\n",
       " 'minmax_scale',\n",
       " 'normalize',\n",
       " 'power_transform',\n",
       " 'quantile_transform',\n",
       " 'robust_scale',\n",
       " 'scale']"
      ]
     },
     "execution_count": 13,
     "metadata": {},
     "output_type": "execute_result"
    }
   ],
   "source": [
    "dir(sklearn.preprocessing)"
   ]
  },
  {
   "cell_type": "code",
   "execution_count": 14,
   "metadata": {
    "ExecuteTime": {
     "end_time": "2019-06-27T10:44:10.977856Z",
     "start_time": "2019-06-27T10:44:08.663092Z"
    }
   },
   "outputs": [
    {
     "data": {
      "text/plain": [
       "['GenericUnivariateSelect',\n",
       " 'RFE',\n",
       " 'RFECV',\n",
       " 'SelectFdr',\n",
       " 'SelectFpr',\n",
       " 'SelectFromModel',\n",
       " 'SelectFwe',\n",
       " 'SelectKBest',\n",
       " 'SelectPercentile',\n",
       " 'VarianceThreshold',\n",
       " '__all__',\n",
       " '__builtins__',\n",
       " '__cached__',\n",
       " '__doc__',\n",
       " '__file__',\n",
       " '__loader__',\n",
       " '__name__',\n",
       " '__package__',\n",
       " '__path__',\n",
       " '__spec__',\n",
       " 'base',\n",
       " 'chi2',\n",
       " 'f_classif',\n",
       " 'f_oneway',\n",
       " 'f_regression',\n",
       " 'from_model',\n",
       " 'mutual_info_',\n",
       " 'mutual_info_classif',\n",
       " 'mutual_info_regression',\n",
       " 'rfe',\n",
       " 'univariate_selection',\n",
       " 'variance_threshold']"
      ]
     },
     "execution_count": 14,
     "metadata": {},
     "output_type": "execute_result"
    }
   ],
   "source": [
    "import sklearn.feature_selection\n",
    "dir(sklearn.feature_selection)"
   ]
  },
  {
   "cell_type": "code",
   "execution_count": 15,
   "metadata": {
    "ExecuteTime": {
     "end_time": "2019-06-27T10:44:51.541869Z",
     "start_time": "2019-06-27T10:44:51.454758Z"
    }
   },
   "outputs": [
    {
     "data": {
      "text/plain": [
       "array([[0, 1],\n",
       "       [1, 0],\n",
       "       [0, 0],\n",
       "       [1, 1],\n",
       "       [1, 0],\n",
       "       [1, 1]])"
      ]
     },
     "execution_count": 15,
     "metadata": {},
     "output_type": "execute_result"
    }
   ],
   "source": [
    "from sklearn.feature_selection import VarianceThreshold\n",
    "X = [[0, 0, 1], [0, 1, 0], [1, 0, 0], [0, 1, 1], [0, 1, 0], [0, 1, 1]]\n",
    "sel = VarianceThreshold(threshold=(.8 * (1 - .8)))\n",
    "sel.fit_transform(X)"
   ]
  },
  {
   "cell_type": "code",
   "execution_count": 16,
   "metadata": {
    "ExecuteTime": {
     "end_time": "2019-06-27T10:45:44.922497Z",
     "start_time": "2019-06-27T10:45:44.890723Z"
    }
   },
   "outputs": [
    {
     "data": {
      "text/plain": [
       "array([0.13888889, 0.22222222, 0.25      ])"
      ]
     },
     "execution_count": 16,
     "metadata": {},
     "output_type": "execute_result"
    }
   ],
   "source": [
    "sel.variances_"
   ]
  },
  {
   "cell_type": "markdown",
   "metadata": {},
   "source": [
    "## MSE"
   ]
  },
  {
   "cell_type": "markdown",
   "metadata": {},
   "source": [
    "## R2"
   ]
  },
  {
   "cell_type": "markdown",
   "metadata": {},
   "source": [
    "## Confusion Matrix 预测值超出控制线时，判断为异常，从而可以沿用分类问题的评估指标"
   ]
  },
  {
   "cell_type": "markdown",
   "metadata": {},
   "source": [
    "## MQV Model quality value (MQV), a global indicator"
   ]
  },
  {
   "cell_type": "markdown",
   "metadata": {},
   "source": [
    "## PQV predicted quality value (PQV), a local estimator"
   ]
  },
  {
   "cell_type": "markdown",
   "metadata": {},
   "source": [
    "## MAPE maximum average projection error"
   ]
  },
  {
   "cell_type": "markdown",
   "metadata": {},
   "source": [
    "# 技巧\n",
    "## https://www.zhihu.com/question/265230325/answer/292231772\n",
    "\n",
    "**样本如果超过：100，000：**\n",
    "\n",
    "SKlearn 建议 用SGD Regression\n",
    "\n",
    "这两天看Kaggle Mercari Price Suggest 比赛中，高分选手用Ridge, SGD,和LightGBM较多. 也有人用Tensorflow, Keras 等深度学习算法，不过成绩都一般。\n",
    "\n",
    "高分选手的特征工程都非常有创意和精细。\n",
    "\n",
    "**样本数量在 100,000以下 ：**\n",
    "\n",
    "速度最快，Lasso, + Ridge，缺点：线形\n",
    "\n",
    "性能更佳：SVM(RBF内核），缺点：比线形慢(1-5)倍\n",
    "\n",
    "精确度： Ensemble  系列(XGBoost是其中之一），缺点: 比线形慢（10~50倍）\n",
    "\n",
    "就XGBboost而言，如果在其他都不变的情况下换算法，可以考虑LightGMB( 闪电侠，微软出品，开源）。准确度(RMSE类似），速度快2~10倍。\n",
    "\n",
    "\n",
    "嗯，其实上面方法都不用也可以。 我自己试验结果有两个方法可以提高：\n",
    "\n",
    "调参（GridSearch ,或 Random Search)\n",
    "\n",
    "调参时候nfolder 设高一点（默认是3， 改成5，或10）\n",
    "\n",
    "上述方法优点：RMSE值会更好。 原因是 样本变大了。缺点：时间按倍速增长。3万样本，不同CV nfolder 调出来参数不太一样，用该参数训练时模型也不一样。数据越多越好。\n"
   ]
  },
  {
   "cell_type": "markdown",
   "metadata": {},
   "source": [
    "## 案例\n",
    "\n",
    "### 一些kaggle案例 https://zhuanlan.zhihu.com/p/64210681\n",
    "- Kaggle——房价预测\n",
    "- Kaggle——销售量预测\n",
    "- Kaggle——餐厅访客预测\n",
    "- Kaggle——CorporaciónFavoritaGrocery销售预测\n",
    "\n",
    "### 一些天池/DataCastle/CCF案例 https://zhuanlan.zhihu.com/p/24360915\n",
    " \n",
    "本文整理了12个天池、DataCastle、CCF竞赛中可使用回归算法处理的问题场景。\n",
    " \n",
    " \n",
    "- 1 机场客流量分布预测\n",
    " \n",
    "- 2 音乐流行趋势预测\n",
    " \n",
    "- 3 需求预测与仓储规划方案\n",
    " \n",
    "- 4 新浪微博互动量预测\n",
    " \n",
    "- 5 货币基金资金流入流出预测\n",
    " \n",
    "- 6 电影票房预测\n",
    " \n",
    "- 7 农产品价格预测分析\n",
    " \n",
    "- 8 基于多源数据的青藏高原湖泊面积预测\n",
    " \n",
    "- 9 微博传播规模和传播深度预测\n",
    " \n",
    "- 10 鲍鱼年龄预测\n",
    " \n",
    "- 11 学生成绩排名预测\n",
    " \n",
    "- 12 网约车出行流量预测"
   ]
  },
  {
   "cell_type": "markdown",
   "metadata": {},
   "source": [
    "# 实战：Kaggle房价预测\n",
    "https://www.kaggle.com/c/house-prices-advanced-regression-techniques"
   ]
  },
  {
   "cell_type": "markdown",
   "metadata": {},
   "source": [
    "## 问题描述\n",
    "Ames, Iowa 地区的房价预测。回归问题。\n",
    "\n",
    "### 数据文件说明\n",
    "- train.csv - 训练集，1460 x 81(Id和SalePrice不是特征)\n",
    "- test.csv - 测试集：1459 x 80\n",
    "- data_description.txt - 各列特征含义描述\n",
    "- sample_submission.csv - 1459 x 2 ,(Id, SalePrice), a benchmark submission from a linear regression on year and month of sale, lot square footage, and number of bedrooms\n",
    "\n",
    "\n",
    "### 变量说明\n",
    "变量个数：79.\n",
    "\n",
    "- SalePrice - the property's sale price in dollars. This is the target variable that you're trying to predict.\n",
    "- MSSubClass: The building class\n",
    "- MSZoning: The general zoning classification\n",
    "- LotFrontage: Linear feet of street connected to property\n",
    "- LotArea: Lot size in square feet\n",
    "- Street: Type of road access\n",
    "- Alley: Type of alley access\n",
    "- LotShape: General shape of property\n",
    "- LandContour: Flatness of the property\n",
    "- Utilities: Type of utilities available\n",
    "- LotConfig: Lot configuration\n",
    "- LandSlope: Slope of property\n",
    "- Neighborhood: Physical locations within Ames city limits\n",
    "- Condition1: Proximity to main road or railroad\n",
    "- Condition2: Proximity to main road or railroad (if a second is present)\n",
    "- BldgType: Type of dwelling\n",
    "- HouseStyle: Style of dwelling\n",
    "- OverallQual: Overall material and finish quality\n",
    "- OverallCond: Overall condition rating\n",
    "- YearBuilt: Original construction date\n",
    "- YearRemodAdd: Remodel date\n",
    "- RoofStyle: Type of roof\n",
    "- RoofMatl: Roof material\n",
    "- Exterior1st: Exterior covering on house\n",
    "- Exterior2nd: Exterior covering on house (if more than one material)\n",
    "- MasVnrType: Masonry veneer type\n",
    "- MasVnrArea: Masonry veneer area in square feet\n",
    "- ExterQual: Exterior material quality\n",
    "- ExterCond: Present condition of the material on the exterior\n",
    "- Foundation: Type of foundation\n",
    "- BsmtQual: Height of the basement\n",
    "- BsmtCond: General condition of the basement\n",
    "- BsmtExposure: Walkout or garden level basement walls\n",
    "- BsmtFinType1: Quality of basement finished area\n",
    "- BsmtFinSF1: Type 1 finished square feet\n",
    "- BsmtFinType2: Quality of second finished area (if present)\n",
    "- BsmtFinSF2: Type 2 finished square feet\n",
    "- BsmtUnfSF: Unfinished square feet of basement area\n",
    "- TotalBsmtSF: Total square feet of basement area\n",
    "- Heating: Type of heating\n",
    "- HeatingQC: Heating quality and condition\n",
    "- CentralAir: Central air conditioning\n",
    "- Electrical: Electrical system\n",
    "- 1stFlrSF: First Floor square feet\n",
    "- 2ndFlrSF: Second floor square feet\n",
    "- LowQualFinSF: Low quality finished square feet (all floors)\n",
    "- GrLivArea: Above grade (ground) living area square feet\n",
    "- BsmtFullBath: Basement full bathrooms\n",
    "- BsmtHalfBath: Basement half bathrooms\n",
    "- FullBath: Full bathrooms above grade\n",
    "- HalfBath: Half baths above grade\n",
    "- Bedroom: Number of bedrooms above basement level\n",
    "- Kitchen: Number of kitchens\n",
    "- KitchenQual: Kitchen quality\n",
    "- TotRmsAbvGrd: Total rooms above grade (does not include bathrooms)\n",
    "- Functional: Home functionality rating\n",
    "- Fireplaces: Number of fireplaces\n",
    "- FireplaceQu: Fireplace quality\n",
    "- GarageType: Garage location\n",
    "- GarageYrBlt: Year garage was built\n",
    "- GarageFinish: Interior finish of the garage\n",
    "- GarageCars: Size of garage in car capacity\n",
    "- GarageArea: Size of garage in square feet\n",
    "- GarageQual: Garage quality\n",
    "- GarageCond: Garage condition\n",
    "- PavedDrive: Paved driveway\n",
    "- WoodDeckSF: Wood deck area in square feet\n",
    "- OpenPorchSF: Open porch area in square feet\n",
    "- EnclosedPorch: Enclosed porch area in square feet\n",
    "- 3SsnPorch: Three season porch area in square feet\n",
    "- ScreenPorch: Screen porch area in square feet\n",
    "- PoolArea: Pool area in square feet\n",
    "- PoolQC: Pool quality\n",
    "- Fence: Fence quality\n",
    "- MiscFeature: Miscellaneous feature not covered in other categories\n",
    "- MiscVal: $Value of miscellaneous feature\n",
    "- MoSold: Month Sold\n",
    "- YrSold: Year Sold\n",
    "- SaleType: Type of sale\n",
    "- SaleCondition: Condition of sale\n",
    "\n"
   ]
  },
  {
   "cell_type": "code",
   "execution_count": 2,
   "metadata": {
    "ExecuteTime": {
     "end_time": "2019-06-13T16:27:14.457681Z",
     "start_time": "2019-06-13T16:27:14.430633Z"
    }
   },
   "outputs": [],
   "source": [
    "#import some necessary librairies\n",
    "\n",
    "import numpy as np # linear algebra\n",
    "import pandas as pd # data processing, CSV file I/O (e.g. pd.read_csv)\n",
    "%matplotlib inline\n",
    "import matplotlib.pyplot as plt  # Matlab-style plotting\n",
    "import seaborn as sns\n",
    "color = sns.color_palette()\n",
    "sns.set_style('darkgrid')\n",
    "import warnings\n",
    "def ignore_warn(*args, **kwargs):\n",
    "    pass\n",
    "warnings.warn = ignore_warn #ignore annoying warning (from sklearn and seaborn)\n",
    "\n",
    "\n",
    "from scipy import stats\n",
    "from scipy.stats import norm, skew #for some statistics\n",
    "\n",
    "\n",
    "pd.set_option('display.float_format', lambda x: '{:.3f}'.format(x)) #Limiting floats output to 3 decimal points\n",
    "\n",
    "\n",
    "from subprocess import check_output\n"
   ]
  },
  {
   "cell_type": "code",
   "execution_count": 3,
   "metadata": {
    "ExecuteTime": {
     "end_time": "2019-06-13T16:27:40.258700Z",
     "start_time": "2019-06-13T16:27:40.094374Z"
    }
   },
   "outputs": [],
   "source": [
    "train = pd.read_csv('./house_price/train.csv')\n",
    "test = pd.read_csv('./house_price/test.csv')"
   ]
  },
  {
   "cell_type": "code",
   "execution_count": 4,
   "metadata": {
    "ExecuteTime": {
     "end_time": "2019-06-13T16:27:54.628598Z",
     "start_time": "2019-06-13T16:27:54.589837Z"
    }
   },
   "outputs": [],
   "source": [
    "train.drop(\"Id\", axis = 1, inplace = True)\n",
    "test.drop(\"Id\", axis = 1, inplace = True)\n"
   ]
  },
  {
   "cell_type": "code",
   "execution_count": 5,
   "metadata": {
    "ExecuteTime": {
     "end_time": "2019-06-13T16:28:17.093948Z",
     "start_time": "2019-06-13T16:28:15.870911Z"
    }
   },
   "outputs": [
    {
     "name": "stdout",
     "output_type": "stream",
     "text": [
      "\n",
      " mu = 180921.20 and sigma = 79415.29\n",
      "\n"
     ]
    },
    {
     "data": {
      "image/png": "[encoded data removed]",
      "text/plain": [
       "<Figure size 432x288 with 1 Axes>"
      ]
     },
     "metadata": {},
     "output_type": "display_data"
    },
    {
     "data": {
      "image/png": "[encoded data removed]",
      "text/plain": [
       "<Figure size 432x288 with 1 Axes>"
      ]
     },
     "metadata": {},
     "output_type": "display_data"
    }
   ],
   "source": [
    "sns.distplot(train['SalePrice'] , fit=norm);\n",
    "\n",
    "# Get the fitted parameters used by the function\n",
    "(mu, sigma) = norm.fit(train['SalePrice'])\n",
    "print( '\\n mu = {:.2f} and sigma = {:.2f}\\n'.format(mu, sigma))\n",
    "\n",
    "#Now plot the distribution\n",
    "plt.legend(['Normal dist. ($\\mu=$ {:.2f} and $\\sigma=$ {:.2f} )'.format(mu, sigma)],\n",
    "            loc='best')\n",
    "plt.ylabel('Frequency')\n",
    "plt.title('SalePrice distribution')\n",
    "\n",
    "#Get also the QQ-plot\n",
    "fig = plt.figure()\n",
    "res = stats.probplot(train['SalePrice'], plot=plt)\n",
    "plt.show()"
   ]
  },
  {
   "cell_type": "code",
   "execution_count": 6,
   "metadata": {
    "ExecuteTime": {
     "end_time": "2019-06-13T16:28:45.009079Z",
     "start_time": "2019-06-13T16:28:44.440591Z"
    }
   },
   "outputs": [
    {
     "name": "stdout",
     "output_type": "stream",
     "text": [
      "\n",
      " mu = 12.02 and sigma = 0.40\n",
      "\n"
     ]
    },
    {
     "data": {
      "image/png": "[encoded data removed]",
      "text/plain": [
       "<Figure size 432x288 with 1 Axes>"
      ]
     },
     "metadata": {},
     "output_type": "display_data"
    },
    {
     "data": {
      "image/png": "[encoded data removed]",
      "text/plain": [
       "<Figure size 432x288 with 1 Axes>"
      ]
     },
     "metadata": {},
     "output_type": "display_data"
    }
   ],
   "source": [
    "#We use the numpy fuction log1p which  applies log(1+x) to all elements of the column\n",
    "train[\"SalePrice\"] = np.log1p(train[\"SalePrice\"])\n",
    "\n",
    "#Check the new distribution \n",
    "sns.distplot(train['SalePrice'] , fit=norm);\n",
    "\n",
    "# Get the fitted parameters used by the function\n",
    "(mu, sigma) = norm.fit(train['SalePrice'])\n",
    "print( '\\n mu = {:.2f} and sigma = {:.2f}\\n'.format(mu, sigma))\n",
    "\n",
    "#Now plot the distribution\n",
    "plt.legend(['Normal dist. ($\\mu=$ {:.2f} and $\\sigma=$ {:.2f} )'.format(mu, sigma)],\n",
    "            loc='best')\n",
    "plt.ylabel('Frequency')\n",
    "plt.title('SalePrice distribution')\n",
    "\n",
    "#Get also the QQ-plot\n",
    "fig = plt.figure()\n",
    "res = stats.probplot(train['SalePrice'], plot=plt)\n",
    "plt.show()"
   ]
  },
  {
   "cell_type": "code",
   "execution_count": 7,
   "metadata": {
    "ExecuteTime": {
     "end_time": "2019-06-13T16:29:10.561236Z",
     "start_time": "2019-06-13T16:29:10.485418Z"
    }
   },
   "outputs": [
    {
     "name": "stdout",
     "output_type": "stream",
     "text": [
      "all_data size is : (2919, 79)\n"
     ]
    }
   ],
   "source": [
    "ntrain = train.shape[0]\n",
    "ntest = test.shape[0]\n",
    "y_train = train.SalePrice.values\n",
    "all_data = pd.concat((train, test)).reset_index(drop=True)\n",
    "all_data.drop(['SalePrice'], axis=1, inplace=True)\n",
    "print(\"all_data size is : {}\".format(all_data.shape))"
   ]
  },
  {
   "cell_type": "code",
   "execution_count": 9,
   "metadata": {
    "ExecuteTime": {
     "end_time": "2019-06-13T16:29:57.193389Z",
     "start_time": "2019-06-13T16:29:57.183786Z"
    }
   },
   "outputs": [
    {
     "data": {
      "text/plain": [
       "0        60\n",
       "1        20\n",
       "2        60\n",
       "3        70\n",
       "4        60\n",
       "5        50\n",
       "6        20\n",
       "7        60\n",
       "8        50\n",
       "9       190\n",
       "10       20\n",
       "11       60\n",
       "12       20\n",
       "13       20\n",
       "14       20\n",
       "15       45\n",
       "16       20\n",
       "17       90\n",
       "18       20\n",
       "19       20\n",
       "20       60\n",
       "21       45\n",
       "22       20\n",
       "23      120\n",
       "24       20\n",
       "25       20\n",
       "26       20\n",
       "27       20\n",
       "28       20\n",
       "29       30\n",
       "       ... \n",
       "2889     30\n",
       "2890     50\n",
       "2891     30\n",
       "2892    190\n",
       "2893     50\n",
       "2894    120\n",
       "2895    120\n",
       "2896     20\n",
       "2897     90\n",
       "2898     20\n",
       "2899     80\n",
       "2900     20\n",
       "2901     20\n",
       "2902     20\n",
       "2903     20\n",
       "2904     20\n",
       "2905     90\n",
       "2906    160\n",
       "2907     20\n",
       "2908     90\n",
       "2909    180\n",
       "2910    160\n",
       "2911     20\n",
       "2912    160\n",
       "2913    160\n",
       "2914    160\n",
       "2915    160\n",
       "2916     20\n",
       "2917     85\n",
       "2918     60\n",
       "Name: MSSubClass, Length: 2919, dtype: int64"
      ]
     },
     "execution_count": 9,
     "metadata": {},
     "output_type": "execute_result"
    }
   ],
   "source": [
    "all_data['MSSubClass']"
   ]
  }
 ],
 "metadata": {
  "kernelspec": {
   "display_name": "Python 3",
   "language": "python",
   "name": "python3"
  },
  "language_info": {
   "codemirror_mode": {
    "name": "ipython",
    "version": 3
   },
   "file_extension": ".py",
   "mimetype": "text/x-python",
   "name": "python",
   "nbconvert_exporter": "python",
   "pygments_lexer": "ipython3",
   "version": "3.6.8"
  },
  "toc": {
   "base_numbering": 1,
   "nav_menu": {},
   "number_sections": true,
   "sideBar": true,
   "skip_h1_title": false,
   "title_cell": "Table of Contents",
   "title_sidebar": "Contents",
   "toc_cell": false,
   "toc_position": {
    "height": "calc(100% - 180px)",
    "left": "10px",
    "top": "150px",
    "width": "410px"
   },
   "toc_section_display": true,
   "toc_window_display": true
  }
 },
 "nbformat": 4,
 "nbformat_minor": 2
}
